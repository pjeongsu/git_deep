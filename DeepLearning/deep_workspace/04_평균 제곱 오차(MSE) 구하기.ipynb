{
 "cells": [
  {
   "cell_type": "markdown",
   "metadata": {},
   "source": [
    "### MSE(Mean Square Error, cost) : 잔차(실제값과 예측값의 차이) 제곱의 평균 -> SSE를 표준화한 개념"
   ]
  },
  {
   "cell_type": "code",
   "execution_count": 1,
   "metadata": {},
   "outputs": [],
   "source": [
    "import numpy as np"
   ]
  },
  {
   "cell_type": "code",
   "execution_count": 4,
   "metadata": {},
   "outputs": [],
   "source": [
    "# 기울기 a와 y절편 b\n",
    "\n",
    "기울기 = 3\n",
    "y절편 = 76"
   ]
  },
  {
   "cell_type": "code",
   "execution_count": 5,
   "metadata": {},
   "outputs": [],
   "source": [
    "# 입력과 결과\n",
    "\n",
    "입력 = [2, 4, 6, 8]\n",
    "결과 = [81, 93, 91, 97]"
   ]
  },
  {
   "cell_type": "code",
   "execution_count": 6,
   "metadata": {},
   "outputs": [],
   "source": [
    "# 입력된 값에 따라 결과를 예측하는 함수\n",
    "\n",
    "def predict(x):\n",
    "    return 기울기 * x + y절편"
   ]
  },
  {
   "cell_type": "code",
   "execution_count": 7,
   "metadata": {},
   "outputs": [
    {
     "data": {
      "text/plain": [
       "[82, 88, 94, 100]"
      ]
     },
     "execution_count": 7,
     "metadata": {},
     "output_type": "execute_result"
    }
   ],
   "source": [
    "# 예측결과를 추출한다\n",
    "# 예측 결과를 담을 리스트\n",
    "\n",
    "pred_list = []\n",
    "\n",
    "for v1 in 입력:\n",
    "    a1 = predict(v1)\n",
    "    pred_list.append(a1)\n",
    "    \n",
    "pred_list"
   ]
  },
  {
   "cell_type": "code",
   "execution_count": 8,
   "metadata": {},
   "outputs": [
    {
     "name": "stdout",
     "output_type": "stream",
     "text": [
      "[ 82  88  94 100]\n",
      "[81 93 91 97]\n"
     ]
    }
   ],
   "source": [
    "# 계산을 쉽게 하기 위해 ndarray를 생성한다\n",
    "# 리스트끼리는 빼기 연산이 안됨!!\n",
    "\n",
    "array1 = np.array(pred_list)\n",
    "array2 = np.array(결과)\n",
    "\n",
    "print(array1)\n",
    "print(array2)"
   ]
  },
  {
   "cell_type": "code",
   "execution_count": 9,
   "metadata": {},
   "outputs": [
    {
     "name": "stdout",
     "output_type": "stream",
     "text": [
      "[ 1 -5  3  3]\n"
     ]
    }
   ],
   "source": [
    "# 진짜 결과와 예측 결과를 뺀 값을 가져온다\n",
    "\n",
    "array3 = array1 - array2\n",
    "print(array3)"
   ]
  },
  {
   "cell_type": "code",
   "execution_count": 10,
   "metadata": {},
   "outputs": [
    {
     "name": "stdout",
     "output_type": "stream",
     "text": [
      "[ 1 25  9  9]\n"
     ]
    }
   ],
   "source": [
    "# 제곱을 구한다\n",
    "\n",
    "array4 = array3 ** 2\n",
    "print(array4)"
   ]
  },
  {
   "cell_type": "code",
   "execution_count": 11,
   "metadata": {},
   "outputs": [
    {
     "name": "stdout",
     "output_type": "stream",
     "text": [
      "평균 제곱 오차 값 : 11.0\n"
     ]
    }
   ],
   "source": [
    "# 평균을 구한다\n",
    "\n",
    "mse = array4.mean()\n",
    "print(f'평균 제곱 오차 값 : {mse}')"
   ]
  }
 ],
 "metadata": {
  "kernelspec": {
   "display_name": "Python 3",
   "language": "python",
   "name": "python3"
  },
  "language_info": {
   "codemirror_mode": {
    "name": "ipython",
    "version": 3
   },
   "file_extension": ".py",
   "mimetype": "text/x-python",
   "name": "python",
   "nbconvert_exporter": "python",
   "pygments_lexer": "ipython3",
   "version": "3.7.6"
  }
 },
 "nbformat": 4,
 "nbformat_minor": 4
}
