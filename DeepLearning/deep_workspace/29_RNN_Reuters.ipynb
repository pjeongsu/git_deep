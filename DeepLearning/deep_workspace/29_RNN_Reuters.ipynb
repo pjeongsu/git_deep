{
 "cells": [
  {
   "cell_type": "code",
   "execution_count": 2,
   "metadata": {},
   "outputs": [],
   "source": [
    "# 경고 메시지가 안나오게..\n",
    "import warnings\n",
    "warnings.filterwarnings('ignore')\n",
    "\n",
    "# 기본\n",
    "import pandas as pd\n",
    "import numpy as np\n",
    "\n",
    "import matplotlib.pyplot as plt\n",
    "import seaborn as sns\n",
    "plt.style.use('seaborn-whitegrid')\n",
    "import missingno\n",
    "\n",
    "# KFold\n",
    "from sklearn.model_selection import KFold\n",
    "from sklearn.model_selection import StratifiedKFold\n",
    "\n",
    "# 교차 검증 함수\n",
    "from sklearn.model_selection import cross_val_score\n",
    "from sklearn.model_selection import cross_validate\n",
    "\n",
    "# 학습 데이터와 검증데이터로 나누는 함수\n",
    "from sklearn.model_selection import train_test_split\n",
    "\n",
    "# 데이터 전처리\n",
    "from sklearn.preprocessing import LabelEncoder\n",
    "from sklearn.preprocessing import StandardScaler\n",
    "\n",
    "# 하이퍼 파라미터 튜닝\n",
    "from sklearn.model_selection import GridSearchCV\n",
    "\n",
    "# 평가함수\n",
    "from sklearn.metrics import accuracy_score\n",
    "\n",
    "# 머신러닝 알고리즘 - 분류\n",
    "from sklearn.neighbors import KNeighborsClassifier\n",
    "from sklearn.linear_model import LogisticRegression\n",
    "from sklearn.svm import SVC\n",
    "from sklearn.tree import DecisionTreeClassifier\n",
    "from sklearn.ensemble import RandomForestClassifier\n",
    "from sklearn.ensemble import GradientBoostingClassifier\n",
    "from xgboost import XGBClassifier\n",
    "from sklearn.ensemble import ExtraTreesClassifier\n",
    "from sklearn.ensemble import AdaBoostClassifier\n",
    "from sklearn.gaussian_process import GaussianProcessClassifier\n",
    "from sklearn.naive_bayes import GaussianNB\n",
    "from sklearn.ensemble import BaggingClassifier\n",
    "from sklearn.ensemble import VotingClassifier\n",
    "\n",
    "# 머신러닝 알고리즘 - 회귀\n",
    "from sklearn.neighbors import KNeighborsRegressor\n",
    "from sklearn.linear_model import LinearRegression\n",
    "from sklearn.linear_model import Ridge\n",
    "from sklearn.linear_model import Lasso\n",
    "from sklearn.linear_model import ElasticNet\n",
    "from sklearn.svm import SVR\n",
    "from sklearn.tree import DecisionTreeRegressor\n",
    "from sklearn.ensemble import RandomForestRegressor\n",
    "from sklearn.ensemble import GradientBoostingRegressor\n",
    "from xgboost import XGBRegressor\n",
    "\n",
    "# 군집\n",
    "from sklearn.cluster import KMeans\n",
    "from sklearn.cluster import MeanShift\n",
    "\n",
    "# 차원축소\n",
    "from sklearn.decomposition import PCA\n",
    "from sklearn.discriminant_analysis import LinearDiscriminantAnalysis\n",
    "\n",
    "# 딥러닝\n",
    "from keras.models import Sequential\n",
    "from keras.layers import Dense\n",
    "import tensorflow as tf\n",
    "\n",
    "from keras.utils import np_utils\n",
    "from keras.layers import Dropout\n",
    "from keras.layers import Flatten\n",
    "from keras.layers import Conv2D\n",
    "from keras.layers import MaxPooling2D\n",
    "from keras.layers import Embedding\n",
    "from keras.layers import LSTM\n",
    "\n",
    "# 다중분류를 위한 핫-윈 인코더\n",
    "from keras.utils import to_categorical\n",
    "\n",
    "# 저장된 딥러닝 모델을 복구하는 함수\n",
    "from keras.models import load_model\n",
    "\n",
    "# epoch마다 모델을 저장하는 함수\n",
    "from keras.callbacks import ModelCheckpoint\n",
    "\n",
    "# 더이상 성능 향상이 이루어지지 않는다면 조기 중단시킬 수 있는 함수\n",
    "from keras.callbacks import EarlyStopping\n",
    "\n",
    "# 문장을 잘라준다.\n",
    "from keras.preprocessing.text import Tokenizer\n",
    "from keras.preprocessing.sequence import pad_sequences\n",
    "from keras.preprocessing.text import text_to_word_sequence\n",
    "\n",
    "# 저장\n",
    "import pickle\n",
    "\n",
    "# 시간 모듈\n",
    "import time\n",
    "\n",
    "# 그래프 설정\n",
    "plt.rcParams['font.family'] = 'Malgun Gothic'\n",
    "# plt.rcParams['font.family'] = 'AppleGothic'\n",
    "plt.rcParams['font.size'] = 16\n",
    "plt.rcParams['figure.figsize'] = 20, 10\n",
    "plt.rcParams['axes.unicode_minus'] = False\n",
    "\n",
    "# gpu 사용 초기화 및 할당\n",
    "gpus= tf.config.experimental.list_physical_devices('GPU')\n",
    "tf.config.experimental.set_memory_growth(gpus[0], True)"
   ]
  },
  {
   "cell_type": "code",
   "execution_count": 3,
   "metadata": {},
   "outputs": [],
   "source": [
    "# seed값 설정\n",
    "\n",
    "np.random.seed(3)\n",
    "tf.random.set_seed(3)"
   ]
  },
  {
   "cell_type": "code",
   "execution_count": 7,
   "metadata": {},
   "outputs": [],
   "source": [
    "# 로이터 데이터 불러오기\n",
    "from keras.datasets import reuters\n",
    "\n",
    "(X_train, Y_train), (X_test, Y_test) = reuters.load_data(num_words=1000, test_split=0.2) # 사용 빈도수가 높은 단어 100개 추출"
   ]
  },
  {
   "cell_type": "code",
   "execution_count": 13,
   "metadata": {},
   "outputs": [
    {
     "name": "stdout",
     "output_type": "stream",
     "text": [
      "카테고리 개수 : 46\n",
      "학습용 뉴스 기사 개수 : 8982\n",
      "테스트용 뉴스 기사 개수 : 2246\n",
      "[1, 2, 2, 8, 43, 10, 447, 5, 25, 207, 270, 5, 2, 111, 16, 369, 186, 90, 67, 7, 89, 5, 19, 102, 6, 19, 124, 15, 90, 67, 84, 22, 482, 26, 7, 48, 4, 49, 8, 864, 39, 209, 154, 6, 151, 6, 83, 11, 15, 22, 155, 11, 15, 7, 48, 9, 2, 2, 504, 6, 258, 6, 272, 11, 15, 22, 134, 44, 11, 15, 16, 8, 197, 2, 90, 67, 52, 29, 209, 30, 32, 132, 6, 109, 15, 17, 12]\n"
     ]
    }
   ],
   "source": [
    "# 데이터 확인\n",
    "# 카테고리 개수\n",
    "\n",
    "a1 = np.max(Y_train) + 1\n",
    "print(f'카테고리 개수 : {a1}')\n",
    "\n",
    "# 학습용 뉴스 기사 개수\n",
    "a2 = len(X_train)\n",
    "print(f'학습용 뉴스 기사 개수 : {a2}')\n",
    "\n",
    "# 테스트용 뉴스 기사 개수\n",
    "a3 = len(X_test)\n",
    "print(f'테스트용 뉴스 기사 개수 : {a3}')\n",
    "\n",
    "print(X_train[0])"
   ]
  },
  {
   "cell_type": "code",
   "execution_count": 14,
   "metadata": {},
   "outputs": [],
   "source": [
    "# 서로 개수가 다른 뉴스기사 리스트의 원소의 개수를 똑같이 맞춰준다\n",
    "# 부족한 부분은 0으로 채워준다\n",
    "X_train = pad_sequences(X_train)\n",
    "X_test = pad_sequences(X_test)"
   ]
  },
  {
   "cell_type": "code",
   "execution_count": 15,
   "metadata": {},
   "outputs": [
    {
     "data": {
      "text/plain": [
       "array([0., 0., 0., 1., 0., 0., 0., 0., 0., 0., 0., 0., 0., 0., 0., 0., 0.,\n",
       "       0., 0., 0., 0., 0., 0., 0., 0., 0., 0., 0., 0., 0., 0., 0., 0., 0.,\n",
       "       0., 0., 0., 0., 0., 0., 0., 0., 0., 0., 0., 0.], dtype=float32)"
      ]
     },
     "execution_count": 15,
     "metadata": {},
     "output_type": "execute_result"
    }
   ],
   "source": [
    "# 결과 데이터를 원-핫 인코딩한다\n",
    "Y_train = np_utils.to_categorical(Y_train)\n",
    "Y_test = np_utils.to_categorical(Y_test)\n",
    "\n",
    "Y_train[0]"
   ]
  },
  {
   "cell_type": "code",
   "execution_count": 16,
   "metadata": {},
   "outputs": [],
   "source": [
    "# 모델 설정\n",
    "model = Sequential()\n",
    "# 문장당 최대 1000개의 데이터를 100개로 줄여라~\n",
    "model.add(Embedding(1000, 100))\n",
    "# RNN(LSTM)을 이용한 학습\n",
    "model.add(LSTM(100, activation='tanh'))\n",
    "# 출력층\n",
    "model.add(Dense(46, activation='softmax'))"
   ]
  },
  {
   "cell_type": "code",
   "execution_count": 17,
   "metadata": {},
   "outputs": [],
   "source": [
    "# 모델 컴파일\n",
    "model.compile(loss='categorical_crossentropy', optimizer='adam',\n",
    "             metrics=['accuracy'])"
   ]
  },
  {
   "cell_type": "code",
   "execution_count": 18,
   "metadata": {},
   "outputs": [
    {
     "name": "stdout",
     "output_type": "stream",
     "text": [
      "Epoch 1/20\n",
      "90/90 [==============================] - 39s 381ms/step - loss: 2.9662 - accuracy: 0.3179 - val_loss: 2.1452 - val_accuracy: 0.4804\n",
      "Epoch 2/20\n",
      "90/90 [==============================] - 34s 380ms/step - loss: 2.0572 - accuracy: 0.4873 - val_loss: 1.9287 - val_accuracy: 0.5116\n",
      "Epoch 3/20\n",
      "90/90 [==============================] - 34s 381ms/step - loss: 1.8827 - accuracy: 0.5242 - val_loss: 1.8074 - val_accuracy: 0.5223\n",
      "Epoch 4/20\n",
      "90/90 [==============================] - 34s 382ms/step - loss: 1.7518 - accuracy: 0.5481 - val_loss: 1.8907 - val_accuracy: 0.5298\n",
      "Epoch 5/20\n",
      "90/90 [==============================] - 34s 382ms/step - loss: 1.8948 - accuracy: 0.5153 - val_loss: 1.7403 - val_accuracy: 0.5628\n",
      "Epoch 6/20\n",
      "90/90 [==============================] - 34s 381ms/step - loss: 1.6965 - accuracy: 0.5668 - val_loss: 1.6760 - val_accuracy: 0.5775\n",
      "Epoch 7/20\n",
      "90/90 [==============================] - 34s 383ms/step - loss: 1.6515 - accuracy: 0.5793 - val_loss: 1.6301 - val_accuracy: 0.5939\n",
      "Epoch 8/20\n",
      "90/90 [==============================] - 34s 380ms/step - loss: 1.8687 - accuracy: 0.5259 - val_loss: 1.8134 - val_accuracy: 0.5392\n",
      "Epoch 9/20\n",
      "90/90 [==============================] - 34s 380ms/step - loss: 1.7095 - accuracy: 0.5610 - val_loss: 1.7109 - val_accuracy: 0.5739\n",
      "Epoch 10/20\n",
      "90/90 [==============================] - 34s 382ms/step - loss: 1.6282 - accuracy: 0.5934 - val_loss: 1.6062 - val_accuracy: 0.6060\n",
      "Epoch 11/20\n",
      "90/90 [==============================] - 34s 381ms/step - loss: 1.5579 - accuracy: 0.6043 - val_loss: 1.6689 - val_accuracy: 0.5606\n",
      "Epoch 12/20\n",
      "90/90 [==============================] - 34s 382ms/step - loss: 1.4847 - accuracy: 0.6311 - val_loss: 1.5206 - val_accuracy: 0.6336\n",
      "Epoch 13/20\n",
      "90/90 [==============================] - 34s 381ms/step - loss: 1.4362 - accuracy: 0.6421 - val_loss: 1.4968 - val_accuracy: 0.6291\n",
      "Epoch 14/20\n",
      "90/90 [==============================] - 34s 381ms/step - loss: 1.3236 - accuracy: 0.6642 - val_loss: 1.3844 - val_accuracy: 0.6594\n",
      "Epoch 15/20\n",
      "90/90 [==============================] - 34s 382ms/step - loss: 1.2700 - accuracy: 0.6835 - val_loss: 1.3493 - val_accuracy: 0.6768\n",
      "Epoch 16/20\n",
      "90/90 [==============================] - 34s 382ms/step - loss: 1.2515 - accuracy: 0.6842 - val_loss: 1.3822 - val_accuracy: 0.6576\n",
      "Epoch 17/20\n",
      "90/90 [==============================] - 34s 381ms/step - loss: 1.3214 - accuracy: 0.6681 - val_loss: 1.8747 - val_accuracy: 0.5623\n",
      "Epoch 18/20\n",
      "90/90 [==============================] - 34s 381ms/step - loss: 1.4273 - accuracy: 0.6351 - val_loss: 3.5097 - val_accuracy: 0.2654\n",
      "Epoch 19/20\n",
      "90/90 [==============================] - 34s 381ms/step - loss: 2.3044 - accuracy: 0.4627 - val_loss: 1.6616 - val_accuracy: 0.6042\n",
      "Epoch 20/20\n",
      "90/90 [==============================] - 34s 381ms/step - loss: 1.6458 - accuracy: 0.6001 - val_loss: 2.0794 - val_accuracy: 0.4951\n"
     ]
    }
   ],
   "source": [
    "# 학습 실행\n",
    "history = model.fit(X_train, Y_train, validation_data=(X_test, Y_test),\n",
    "                   batch_size=100, epochs=20)\n"
   ]
  },
  {
   "cell_type": "code",
   "execution_count": 20,
   "metadata": {},
   "outputs": [
    {
     "name": "stdout",
     "output_type": "stream",
     "text": [
      "71/71 [==============================] - 1s 19ms/step - loss: 2.0794 - accuracy: 0.4951\n"
     ]
    }
   ],
   "source": [
    "# 테스트 정확도 출력\n",
    "model.evaluate(X_test, Y_test)[1]\n",
    "\n",
    "# 테스트 데이터의 오차\n",
    "y_vloss = history.history['val_loss']\n",
    "\n",
    "# 학습 데이터의 오차\n",
    "y_loss = history.history['loss']\n",
    "\n",
    "# 테스트 데이터의 오차\n",
    "y_vloss = history.history['val_loss']"
   ]
  },
  {
   "cell_type": "code",
   "execution_count": 21,
   "metadata": {},
   "outputs": [
    {
     "data": {
      "image/png": "[encoded data removed]",
      "text/plain": [
       "<Figure size 1440x720 with 1 Axes>"
      ]
     },
     "metadata": {},
     "output_type": "display_data"
    }
   ],
   "source": [
    "# 그래프\n",
    "x_len = np.arange(len(y_loss))\n",
    "\n",
    "plt.plot(x_len, y_vloss, marker='.', c='red', label='test')\n",
    "plt.plot(x_len, y_loss, marker='.', c='blue', label='train')\n",
    "\n",
    "plt.legend()\n",
    "plt.grid()\n",
    "plt.show()"
   ]
  },
  {
   "cell_type": "code",
   "execution_count": null,
   "metadata": {},
   "outputs": [],
   "source": []
  }
 ],
 "metadata": {
  "kernelspec": {
   "display_name": "Python 3",
   "language": "python",
   "name": "python3"
  },
  "language_info": {
   "codemirror_mode": {
    "name": "ipython",
    "version": 3
   },
   "file_extension": ".py",
   "mimetype": "text/x-python",
   "name": "python",
   "nbconvert_exporter": "python",
   "pygments_lexer": "ipython3",
   "version": "3.7.6"
  }
 },
 "nbformat": 4,
 "nbformat_minor": 4
}
