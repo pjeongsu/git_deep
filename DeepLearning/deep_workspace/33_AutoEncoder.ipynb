{
 "cells": [
  {
   "cell_type": "code",
   "execution_count": 1,
   "metadata": {},
   "outputs": [],
   "source": [
    "# 경고 메시지가 안나오게..\n",
    "import warnings\n",
    "warnings.filterwarnings('ignore')\n",
    "\n",
    "# 기본\n",
    "import pandas as pd\n",
    "import numpy as np\n",
    "\n",
    "import matplotlib.pyplot as plt\n",
    "import seaborn as sns\n",
    "plt.style.use('seaborn-whitegrid')\n",
    "import missingno\n",
    "\n",
    "# KFold\n",
    "from sklearn.model_selection import KFold\n",
    "from sklearn.model_selection import StratifiedKFold\n",
    "\n",
    "# 교차 검증 함수\n",
    "from sklearn.model_selection import cross_val_score\n",
    "from sklearn.model_selection import cross_validate\n",
    "\n",
    "# 학습 데이터와 검증데이터로 나누는 함수\n",
    "from sklearn.model_selection import train_test_split\n",
    "\n",
    "# 데이터 전처리\n",
    "from sklearn.preprocessing import LabelEncoder\n",
    "from sklearn.preprocessing import StandardScaler\n",
    "\n",
    "# 하이퍼 파라미터 튜닝\n",
    "from sklearn.model_selection import GridSearchCV\n",
    "\n",
    "# 평가함수\n",
    "from sklearn.metrics import accuracy_score\n",
    "\n",
    "# 머신러닝 알고리즘 - 분류\n",
    "from sklearn.neighbors import KNeighborsClassifier\n",
    "from sklearn.linear_model import LogisticRegression\n",
    "from sklearn.svm import SVC\n",
    "from sklearn.tree import DecisionTreeClassifier\n",
    "from sklearn.ensemble import RandomForestClassifier\n",
    "from sklearn.ensemble import GradientBoostingClassifier\n",
    "from xgboost import XGBClassifier\n",
    "from sklearn.ensemble import ExtraTreesClassifier\n",
    "from sklearn.ensemble import AdaBoostClassifier\n",
    "from sklearn.gaussian_process import GaussianProcessClassifier\n",
    "from sklearn.naive_bayes import GaussianNB\n",
    "from sklearn.ensemble import BaggingClassifier\n",
    "from sklearn.ensemble import VotingClassifier\n",
    "\n",
    "# 머신러닝 알고리즘 - 회귀\n",
    "from sklearn.neighbors import KNeighborsRegressor\n",
    "from sklearn.linear_model import LinearRegression\n",
    "from sklearn.linear_model import Ridge\n",
    "from sklearn.linear_model import Lasso\n",
    "from sklearn.linear_model import ElasticNet\n",
    "from sklearn.svm import SVR\n",
    "from sklearn.tree import DecisionTreeRegressor\n",
    "from sklearn.ensemble import RandomForestRegressor\n",
    "from sklearn.ensemble import GradientBoostingRegressor\n",
    "from xgboost import XGBRegressor\n",
    "\n",
    "# 군집\n",
    "from sklearn.cluster import KMeans\n",
    "from sklearn.cluster import MeanShift\n",
    "\n",
    "# 차원축소\n",
    "from sklearn.decomposition import PCA\n",
    "from sklearn.discriminant_analysis import LinearDiscriminantAnalysis\n",
    "\n",
    "# 딥러닝\n",
    "from keras.models import Sequential\n",
    "from keras.layers import Dense\n",
    "import tensorflow as tf\n",
    "\n",
    "from keras.utils import np_utils\n",
    "from keras.layers import Dropout\n",
    "from keras.layers import Flatten\n",
    "from keras.layers import Conv2D\n",
    "from keras.layers import MaxPooling2D\n",
    "from keras.layers import Embedding\n",
    "from keras.layers import LSTM\n",
    "from keras.layers import Activation\n",
    "from keras.layers import Conv1D\n",
    "from keras.layers import MaxPooling1D\n",
    "from keras.layers import LeakyReLU\n",
    "from keras.layers import BatchNormalization\n",
    "from keras.layers import Reshape\n",
    "from keras.layers import UpSampling2D\n",
    "from keras.layers import Input\n",
    "from keras.models import Model\n",
    "\n",
    "# 다중분류를 위한 핫-윈 인코더\n",
    "from keras.utils import to_categorical\n",
    "\n",
    "# 저장된 딥러닝 모델을 복구하는 함수\n",
    "from keras.models import load_model\n",
    "\n",
    "# epoch마다 모델을 저장하는 함수\n",
    "from keras.callbacks import ModelCheckpoint\n",
    "\n",
    "# 더이상 성능 향상이 이루어지지 않는다면 조기 중단시킬 수 있는 함수\n",
    "from keras.callbacks import EarlyStopping\n",
    "\n",
    "# 문장을 잘라준다.\n",
    "from keras.preprocessing.text import Tokenizer\n",
    "from keras.preprocessing.sequence import pad_sequences\n",
    "from keras.preprocessing.text import text_to_word_sequence \n",
    "\n",
    "# 저장\n",
    "import pickle\n",
    "\n",
    "# 시간 모듈\n",
    "import time\n",
    "\n",
    "# 그래프 설정\n",
    "plt.rcParams['font.family'] = 'Malgun Gothic'\n",
    "# plt.rcParams['font.family'] = 'AppleGothic'\n",
    "plt.rcParams['font.size'] = 16\n",
    "plt.rcParams['figure.figsize'] = 20, 10\n",
    "plt.rcParams['axes.unicode_minus'] = False\n",
    "\n",
    "# gpu 사용 초기화 및 할당\n",
    "gpus= tf.config.experimental.list_physical_devices('GPU')\n",
    "tf.config.experimental.set_memory_growth(gpus[0], True)"
   ]
  },
  {
   "cell_type": "code",
   "execution_count": 2,
   "metadata": {},
   "outputs": [],
   "source": [
    "from keras.datasets import mnist"
   ]
  },
  {
   "cell_type": "code",
   "execution_count": 3,
   "metadata": {},
   "outputs": [],
   "source": [
    "# 시드 설정\n",
    "np.random.seed(3)\n",
    "tf.random.set_seed(3)"
   ]
  },
  {
   "cell_type": "code",
   "execution_count": 4,
   "metadata": {},
   "outputs": [],
   "source": [
    "# MNist 데이터를 불러온다.\n",
    "(X_train, _), (X_test, _) = mnist.load_data()"
   ]
  },
  {
   "cell_type": "code",
   "execution_count": 5,
   "metadata": {},
   "outputs": [],
   "source": [
    "# 데이터 표준화 작업\n",
    "X_train = X_train.reshape(X_train.shape[0], 28, 28, 1).astype('float32') / 255\n",
    "X_test = X_test.reshape(X_test.shape[0], 28, 28, 1).astype('float32') / 255"
   ]
  },
  {
   "cell_type": "code",
   "execution_count": 6,
   "metadata": {},
   "outputs": [],
   "source": [
    "# 모델 생성\n",
    "model = Sequential()"
   ]
  },
  {
   "cell_type": "code",
   "execution_count": 7,
   "metadata": {},
   "outputs": [],
   "source": [
    "# 인코딩 부분 - 입력값의 차원을 축소\n",
    "model.add(Conv2D(16, kernel_size=3, padding='same', \n",
    "                 input_shape=(28, 28, 1), activation='relu'))\n",
    "model.add(MaxPooling2D(pool_size=2, padding='same'))\n",
    "model.add(Conv2D(8, kernel_size=3, activation='relu', padding='same'))\n",
    "model.add(MaxPooling2D(pool_size=2, padding='same'))\n",
    "model.add(Conv2D(8, kernel_size=3, strides=2, padding='same', \n",
    "                 activation='relu'))"
   ]
  },
  {
   "cell_type": "code",
   "execution_count": 8,
   "metadata": {},
   "outputs": [],
   "source": [
    "# 디코딩 - 다시 차원을 점차 늘려 입력값과 똑같은 크기의 출력값을 내보냄\n",
    "model.add(Conv2D(8, kernel_size=3, padding='same', activation='relu'))\n",
    "model.add(UpSampling2D())\n",
    "model.add(Conv2D(8, kernel_size=3, padding='same', activation='relu'))\n",
    "model.add(UpSampling2D())\n",
    "model.add(Conv2D(16, kernel_size=3, activation='relu'))\n",
    "model.add(UpSampling2D())\n",
    "model.add(Conv2D(1, kernel_size=3, padding='same', activation='sigmoid'))"
   ]
  },
  {
   "cell_type": "code",
   "execution_count": 9,
   "metadata": {},
   "outputs": [
    {
     "name": "stdout",
     "output_type": "stream",
     "text": [
      "Model: \"sequential\"\n",
      "_________________________________________________________________\n",
      "Layer (type)                 Output Shape              Param #   \n",
      "=================================================================\n",
      "conv2d (Conv2D)              (None, 28, 28, 16)        160       \n",
      "_________________________________________________________________\n",
      "max_pooling2d (MaxPooling2D) (None, 14, 14, 16)        0         \n",
      "_________________________________________________________________\n",
      "conv2d_1 (Conv2D)            (None, 14, 14, 8)         1160      \n",
      "_________________________________________________________________\n",
      "max_pooling2d_1 (MaxPooling2 (None, 7, 7, 8)           0         \n",
      "_________________________________________________________________\n",
      "conv2d_2 (Conv2D)            (None, 4, 4, 8)           584       \n",
      "_________________________________________________________________\n",
      "conv2d_3 (Conv2D)            (None, 4, 4, 8)           584       \n",
      "_________________________________________________________________\n",
      "up_sampling2d (UpSampling2D) (None, 8, 8, 8)           0         \n",
      "_________________________________________________________________\n",
      "conv2d_4 (Conv2D)            (None, 8, 8, 8)           584       \n",
      "_________________________________________________________________\n",
      "up_sampling2d_1 (UpSampling2 (None, 16, 16, 8)         0         \n",
      "_________________________________________________________________\n",
      "conv2d_5 (Conv2D)            (None, 14, 14, 16)        1168      \n",
      "_________________________________________________________________\n",
      "up_sampling2d_2 (UpSampling2 (None, 28, 28, 16)        0         \n",
      "_________________________________________________________________\n",
      "conv2d_6 (Conv2D)            (None, 28, 28, 1)         145       \n",
      "=================================================================\n",
      "Total params: 4,385\n",
      "Trainable params: 4,385\n",
      "Non-trainable params: 0\n",
      "_________________________________________________________________\n"
     ]
    }
   ],
   "source": [
    "# 전체 구조를 확인한다.\n",
    "model.summary()"
   ]
  },
  {
   "cell_type": "code",
   "execution_count": 10,
   "metadata": {},
   "outputs": [],
   "source": [
    "# 학습한다.\n",
    "model.compile(optimizer='adam', loss='binary_crossentropy')"
   ]
  },
  {
   "cell_type": "code",
   "execution_count": 11,
   "metadata": {
    "scrolled": true
   },
   "outputs": [
    {
     "name": "stdout",
     "output_type": "stream",
     "text": [
      "Epoch 1/50\n",
      "469/469 [==============================] - 8s 7ms/step - loss: 0.3019 - val_loss: 0.1394\n",
      "Epoch 2/50\n",
      "469/469 [==============================] - 3s 6ms/step - loss: 0.1327 - val_loss: 0.1176\n",
      "Epoch 3/50\n",
      "469/469 [==============================] - 3s 6ms/step - loss: 0.1153 - val_loss: 0.1089\n",
      "Epoch 4/50\n",
      "469/469 [==============================] - 3s 6ms/step - loss: 0.1083 - val_loss: 0.1035\n",
      "Epoch 5/50\n",
      "469/469 [==============================] - 3s 6ms/step - loss: 0.1044 - val_loss: 0.1010\n",
      "Epoch 6/50\n",
      "469/469 [==============================] - 3s 6ms/step - loss: 0.1016 - val_loss: 0.0992\n",
      "Epoch 7/50\n",
      "469/469 [==============================] - 3s 6ms/step - loss: 0.0995 - val_loss: 0.0977\n",
      "Epoch 8/50\n",
      "469/469 [==============================] - 3s 6ms/step - loss: 0.0977 - val_loss: 0.0955\n",
      "Epoch 9/50\n",
      "469/469 [==============================] - 3s 6ms/step - loss: 0.0963 - val_loss: 0.0943\n",
      "Epoch 10/50\n",
      "469/469 [==============================] - 3s 6ms/step - loss: 0.0955 - val_loss: 0.0931\n",
      "Epoch 11/50\n",
      "469/469 [==============================] - 3s 6ms/step - loss: 0.0941 - val_loss: 0.0922\n",
      "Epoch 12/50\n",
      "469/469 [==============================] - 3s 6ms/step - loss: 0.0933 - val_loss: 0.0919\n",
      "Epoch 13/50\n",
      "469/469 [==============================] - 3s 6ms/step - loss: 0.0924 - val_loss: 0.0905\n",
      "Epoch 14/50\n",
      "469/469 [==============================] - 3s 6ms/step - loss: 0.0914 - val_loss: 0.0901\n",
      "Epoch 15/50\n",
      "469/469 [==============================] - 3s 6ms/step - loss: 0.0907 - val_loss: 0.0890\n",
      "Epoch 16/50\n",
      "469/469 [==============================] - 3s 6ms/step - loss: 0.0899 - val_loss: 0.0881\n",
      "Epoch 17/50\n",
      "469/469 [==============================] - 3s 6ms/step - loss: 0.0891 - val_loss: 0.0877\n",
      "Epoch 18/50\n",
      "469/469 [==============================] - 3s 6ms/step - loss: 0.0886 - val_loss: 0.0871\n",
      "Epoch 19/50\n",
      "469/469 [==============================] - 3s 6ms/step - loss: 0.0882 - val_loss: 0.0870\n",
      "Epoch 20/50\n",
      "469/469 [==============================] - 3s 6ms/step - loss: 0.0877 - val_loss: 0.0863\n",
      "Epoch 21/50\n",
      "469/469 [==============================] - 3s 6ms/step - loss: 0.0873 - val_loss: 0.0859\n",
      "Epoch 22/50\n",
      "469/469 [==============================] - 3s 6ms/step - loss: 0.0867 - val_loss: 0.0859\n",
      "Epoch 23/50\n",
      "469/469 [==============================] - 3s 6ms/step - loss: 0.0866 - val_loss: 0.0854\n",
      "Epoch 24/50\n",
      "469/469 [==============================] - 3s 6ms/step - loss: 0.0862 - val_loss: 0.0849\n",
      "Epoch 25/50\n",
      "469/469 [==============================] - 3s 6ms/step - loss: 0.0860 - val_loss: 0.0847\n",
      "Epoch 26/50\n",
      "469/469 [==============================] - 3s 6ms/step - loss: 0.0857 - val_loss: 0.0843\n",
      "Epoch 27/50\n",
      "469/469 [==============================] - 3s 6ms/step - loss: 0.0853 - val_loss: 0.0840\n",
      "Epoch 28/50\n",
      "469/469 [==============================] - 3s 6ms/step - loss: 0.0853 - val_loss: 0.0840\n",
      "Epoch 29/50\n",
      "469/469 [==============================] - 3s 6ms/step - loss: 0.0850 - val_loss: 0.0844\n",
      "Epoch 30/50\n",
      "469/469 [==============================] - 3s 6ms/step - loss: 0.0848 - val_loss: 0.0836\n",
      "Epoch 31/50\n",
      "469/469 [==============================] - 3s 6ms/step - loss: 0.0845 - val_loss: 0.0831\n",
      "Epoch 32/50\n",
      "469/469 [==============================] - 3s 6ms/step - loss: 0.0843 - val_loss: 0.0830\n",
      "Epoch 33/50\n",
      "469/469 [==============================] - 3s 6ms/step - loss: 0.0840 - val_loss: 0.0831\n",
      "Epoch 34/50\n",
      "469/469 [==============================] - 3s 6ms/step - loss: 0.0837 - val_loss: 0.0826\n",
      "Epoch 35/50\n",
      "469/469 [==============================] - 3s 6ms/step - loss: 0.0837 - val_loss: 0.0825\n",
      "Epoch 36/50\n",
      "469/469 [==============================] - 3s 6ms/step - loss: 0.0833 - val_loss: 0.0823\n",
      "Epoch 37/50\n",
      "469/469 [==============================] - 3s 6ms/step - loss: 0.0833 - val_loss: 0.0823\n",
      "Epoch 38/50\n",
      "469/469 [==============================] - 3s 6ms/step - loss: 0.0832 - val_loss: 0.0820\n",
      "Epoch 39/50\n",
      "469/469 [==============================] - 3s 6ms/step - loss: 0.0831 - val_loss: 0.0819\n",
      "Epoch 40/50\n",
      "469/469 [==============================] - 3s 6ms/step - loss: 0.0830 - val_loss: 0.0820\n",
      "Epoch 41/50\n",
      "469/469 [==============================] - 3s 6ms/step - loss: 0.0826 - val_loss: 0.0816\n",
      "Epoch 42/50\n",
      "469/469 [==============================] - 3s 6ms/step - loss: 0.0827 - val_loss: 0.0816\n",
      "Epoch 43/50\n",
      "469/469 [==============================] - 3s 6ms/step - loss: 0.0825 - val_loss: 0.0815\n",
      "Epoch 44/50\n",
      "469/469 [==============================] - 3s 6ms/step - loss: 0.0822 - val_loss: 0.0814\n",
      "Epoch 45/50\n",
      "469/469 [==============================] - 3s 6ms/step - loss: 0.0821 - val_loss: 0.0810\n",
      "Epoch 46/50\n",
      "469/469 [==============================] - 3s 6ms/step - loss: 0.0820 - val_loss: 0.0810\n",
      "Epoch 47/50\n",
      "469/469 [==============================] - 3s 6ms/step - loss: 0.0819 - val_loss: 0.0808\n",
      "Epoch 48/50\n",
      "469/469 [==============================] - 3s 6ms/step - loss: 0.0820 - val_loss: 0.0808\n",
      "Epoch 49/50\n",
      "469/469 [==============================] - 3s 6ms/step - loss: 0.0816 - val_loss: 0.0806\n",
      "Epoch 50/50\n",
      "469/469 [==============================] - 3s 6ms/step - loss: 0.0816 - val_loss: 0.0807\n"
     ]
    },
    {
     "data": {
      "text/plain": [
       "<tensorflow.python.keras.callbacks.History at 0x2746039bd48>"
      ]
     },
     "execution_count": 11,
     "metadata": {},
     "output_type": "execute_result"
    }
   ],
   "source": [
    "model.fit(X_train, X_train, validation_data=(X_test, X_test),\n",
    "         epochs=50, batch_size=128)"
   ]
  },
  {
   "cell_type": "code",
   "execution_count": 13,
   "metadata": {},
   "outputs": [],
   "source": [
    "# 랜덤하게 5개의 이미지를 추출한다\n",
    "random_test = np.random.randint(X_test.shape[0], size=5)\n",
    "# print(random_test)\n",
    "\n",
    "# 예측 이미지 생성\n",
    "ae_imgs = model.predict(X_test)"
   ]
  },
  {
   "cell_type": "code",
   "execution_count": 14,
   "metadata": {},
   "outputs": [
    {
     "data": {
      "text/plain": [
       "<Figure size 504x144 with 0 Axes>"
      ]
     },
     "execution_count": 14,
     "metadata": {},
     "output_type": "execute_result"
    },
    {
     "data": {
      "text/plain": [
       "<Figure size 504x144 with 0 Axes>"
      ]
     },
     "metadata": {},
     "output_type": "display_data"
    }
   ],
   "source": [
    "# 출력될 이미지의 크기\n",
    "plt.figure(figsize=(7, 2))"
   ]
  },
  {
   "cell_type": "code",
   "execution_count": 16,
   "metadata": {},
   "outputs": [
    {
     "data": {
      "image/png": "[encoded data removed]",
      "text/plain": [
       "<Figure size 1440x720 with 10 Axes>"
      ]
     },
     "metadata": {},
     "output_type": "display_data"
    }
   ],
   "source": [
    "for i, image_idx in enumerate(random_test):\n",
    "    # 원본\n",
    "    ax = plt.subplot(2, 7, i + 1)\n",
    "    plt.imshow(X_test[image_idx].reshape(28, 28))\n",
    "    ax.axis('off')\n",
    "    # 예측\n",
    "    ax = plt.subplot(2, 7, 7 + i + 1)\n",
    "    plt.imshow(ae_imgs[image_idx].reshape(28, 28))\n",
    "    ax.axis('off')    \n",
    "    \n",
    "plt.show()"
   ]
  },
  {
   "cell_type": "markdown",
   "metadata": {},
   "source": [
    "- GAN : 정밀한 이미지 생성 가능, 학습량이 많음 -> 이미지 학습시 이용\n",
    "- AutoEncoder : 정밀하지는 않지만 학습량이 적음 -> 주로 문자 학습시 이용"
   ]
  }
 ],
 "metadata": {
  "kernelspec": {
   "display_name": "Python 3",
   "language": "python",
   "name": "python3"
  },
  "language_info": {
   "codemirror_mode": {
    "name": "ipython",
    "version": 3
   },
   "file_extension": ".py",
   "mimetype": "text/x-python",
   "name": "python",
   "nbconvert_exporter": "python",
   "pygments_lexer": "ipython3",
   "version": "3.7.6"
  }
 },
 "nbformat": 4,
 "nbformat_minor": 4
}
