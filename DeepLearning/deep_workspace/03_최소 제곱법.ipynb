{
 "cells": [
  {
   "cell_type": "code",
   "execution_count": 1,
   "metadata": {},
   "outputs": [],
   "source": [
    "import numpy as np"
   ]
  },
  {
   "cell_type": "code",
   "execution_count": 2,
   "metadata": {},
   "outputs": [],
   "source": [
    "# 학습할 데이터\n",
    "\n",
    "공부한시간 = [2, 4, 6, 8]\n",
    "성적 = [81, 93, 91, 97]"
   ]
  },
  {
   "cell_type": "markdown",
   "metadata": {},
   "source": [
    "# 평균 제곱법 계산 공식"
   ]
  },
  {
   "cell_type": "markdown",
   "metadata": {},
   "source": [
    "<img src='img/1.png'/>"
   ]
  },
  {
   "cell_type": "code",
   "execution_count": 3,
   "metadata": {},
   "outputs": [],
   "source": [
    "# x와 y의 평균을 구하는 함수\n",
    "\n",
    "def getMean(x, y):\n",
    "    a1 = np.mean(x)\n",
    "    a2 = np.mean(y)\n",
    "    \n",
    "    return a1, a2"
   ]
  },
  {
   "cell_type": "code",
   "execution_count": 4,
   "metadata": {},
   "outputs": [],
   "source": [
    "# 분자를 구하는 함수\n",
    "\n",
    "def getDividend(x, y, x평균, y평균):\n",
    "    \n",
    "    총합 = 0\n",
    "    \n",
    "    for idx in range(len(x)):\n",
    "        a1 = (x[idx] - x평균) * (y[idx] - y평균)\n",
    "        총합 = 총합 + a1\n",
    "        \n",
    "    return 총합"
   ]
  },
  {
   "cell_type": "code",
   "execution_count": 5,
   "metadata": {},
   "outputs": [],
   "source": [
    "# 분모를 구하는 함수\n",
    "\n",
    "def getDivider(x, x평균):\n",
    "    a1 = [(i - x평균) ** 2 for i in x]\n",
    "    return sum(a1)"
   ]
  },
  {
   "cell_type": "code",
   "execution_count": 6,
   "metadata": {},
   "outputs": [],
   "source": [
    "# 기울기와 절편을 구하는 함수\n",
    "\n",
    "def getAB(분자, 분모, x평균, y평균):\n",
    "    a = 분자 / 분모\n",
    "    b = y평균 - (x평균 * a)\n",
    "    \n",
    "    return a, b"
   ]
  },
  {
   "cell_type": "code",
   "execution_count": 7,
   "metadata": {},
   "outputs": [
    {
     "name": "stdout",
     "output_type": "stream",
     "text": [
      "2.3\n",
      "79.0\n"
     ]
    }
   ],
   "source": [
    "공부시간평균, 성적평균 = getMean(공부한시간, 성적)\n",
    "# print(공부시간평균)\n",
    "# print(성적평균)\n",
    "\n",
    "# 분자를 구한다\n",
    "분자 = getDividend(공부한시간, 성적, 공부시간평균, 성적평균)\n",
    "# print(분자)\n",
    "\n",
    "# 분모를 구한다\n",
    "분모 = getDivider(공부한시간, 공부시간평균)\n",
    "# print(분모)\n",
    "\n",
    "# 기울기와 절편을 구한다\n",
    "기울기, 절편 = getAB(분자, 분모, 공부시간평균, 성적평균)\n",
    "print(기울기)\n",
    "print(절편)"
   ]
  },
  {
   "cell_type": "code",
   "execution_count": 8,
   "metadata": {},
   "outputs": [
    {
     "name": "stdout",
     "output_type": "stream",
     "text": [
      "83.6\n",
      "88.2\n",
      "92.8\n",
      "97.4\n"
     ]
    }
   ],
   "source": [
    "for v1 in 공부한시간:\n",
    "    예측성적 = (기울기 * v1) + 절편\n",
    "    print(예측성적)"
   ]
  },
  {
   "cell_type": "code",
   "execution_count": 9,
   "metadata": {},
   "outputs": [
    {
     "data": {
      "text/plain": [
       "[81, 93, 91, 97]"
      ]
     },
     "execution_count": 9,
     "metadata": {},
     "output_type": "execute_result"
    }
   ],
   "source": [
    "성적"
   ]
  },
  {
   "cell_type": "code",
   "execution_count": 10,
   "metadata": {},
   "outputs": [
    {
     "data": {
      "text/plain": [
       "102.0"
      ]
     },
     "execution_count": 10,
     "metadata": {},
     "output_type": "execute_result"
    }
   ],
   "source": [
    "예측성적 = 기울기 * 10 + 절편\n",
    "예측성적"
   ]
  }
 ],
 "metadata": {
  "kernelspec": {
   "display_name": "Python 3",
   "language": "python",
   "name": "python3"
  },
  "language_info": {
   "codemirror_mode": {
    "name": "ipython",
    "version": 3
   },
   "file_extension": ".py",
   "mimetype": "text/x-python",
   "name": "python",
   "nbconvert_exporter": "python",
   "pygments_lexer": "ipython3",
   "version": "3.7.6"
  }
 },
 "nbformat": 4,
 "nbformat_minor": 4
}
