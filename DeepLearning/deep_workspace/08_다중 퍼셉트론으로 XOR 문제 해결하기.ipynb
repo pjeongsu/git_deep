{
 "cells": [
  {
   "cell_type": "code",
   "execution_count": 1,
   "metadata": {},
   "outputs": [],
   "source": [
    "import numpy as np"
   ]
  },
  {
   "cell_type": "code",
   "execution_count": 2,
   "metadata": {},
   "outputs": [],
   "source": [
    "# 가중치와 바이어스\n",
    "# 학습과정에서 찾는 것인데 책을 쓴 사람들이 이미 찾아놓았음 => 원래는 0부터 시작\n",
    "\n",
    "w11 = np.array([-2, -2]) # NAND 게이트를 위한 가중치\n",
    "w12 = np.array([2, 2])   # OR 게이트\n",
    "w2 = np.array([1, 1])    # AND 게이트\n",
    "\n",
    "b1 = 3\n",
    "b2 = -1\n",
    "b3 = -1"
   ]
  },
  {
   "cell_type": "code",
   "execution_count": 3,
   "metadata": {},
   "outputs": [],
   "source": [
    "# 퍼셉트론\n",
    "\n",
    "def MLP(x, w, b):\n",
    "    y = np.sum(w * x) + b\n",
    "    \n",
    "    if y <= 0:\n",
    "        return 0\n",
    "    else:\n",
    "        return 1"
   ]
  },
  {
   "cell_type": "code",
   "execution_count": 9,
   "metadata": {},
   "outputs": [],
   "source": [
    "# AND 게이트\n",
    "def AND(x1, x2) :\n",
    "    a1 = np.array([x1, x2])\n",
    "    pred = MLP(a1, w2, b3)\n",
    "    return pred\n",
    "\n",
    "# NAND 게이트\n",
    "def NAND(x1, x2) :\n",
    "    a1 = np.array([x1, x2])\n",
    "    pred = MLP(a1, w11, b1)\n",
    "    return pred\n",
    "\n",
    "# OR 게이트\n",
    "def OR(x1, x2) :\n",
    "    a1 = np.array([x1, x2])\n",
    "    pred = MLP(a1, w12, b2)\n",
    "    return pred\n",
    "\n",
    "# XOR 게이트\n",
    "def XOR(x1, x2):\n",
    "    pred1 = NAND(x1, x2)\n",
    "    pred2 = OR(x1, x2)\n",
    "    pred3 = AND(pred1, pred2)\n",
    "    return pred3"
   ]
  },
  {
   "cell_type": "code",
   "execution_count": 10,
   "metadata": {},
   "outputs": [
    {
     "name": "stdout",
     "output_type": "stream",
     "text": [
      "입력값 : 0, 0, 결과 : 0\n",
      "입력값 : 0, 1, 결과 : 1\n",
      "입력값 : 1, 0, 결과 : 1\n",
      "입력값 : 1, 1, 결과 : 0\n"
     ]
    }
   ],
   "source": [
    "data = ((0, 0), (0, 1), (1, 0), (1, 1))\n",
    "\n",
    "for k1, k2 in data :\n",
    "    # y = AND(k1, k2)\n",
    "    # y = NAND(k1, k2)\n",
    "    # y = OR(k1, k2)\n",
    "    y = XOR(k1, k2)\n",
    "    print(f'입력값 : {k1}, {k2}, 결과 : {y}')"
   ]
  },
  {
   "cell_type": "code",
   "execution_count": null,
   "metadata": {},
   "outputs": [],
   "source": []
  },
  {
   "cell_type": "code",
   "execution_count": null,
   "metadata": {},
   "outputs": [],
   "source": []
  },
  {
   "cell_type": "code",
   "execution_count": null,
   "metadata": {},
   "outputs": [],
   "source": []
  },
  {
   "cell_type": "code",
   "execution_count": null,
   "metadata": {},
   "outputs": [],
   "source": []
  },
  {
   "cell_type": "code",
   "execution_count": null,
   "metadata": {},
   "outputs": [],
   "source": []
  },
  {
   "cell_type": "code",
   "execution_count": null,
   "metadata": {},
   "outputs": [],
   "source": []
  },
  {
   "cell_type": "code",
   "execution_count": null,
   "metadata": {},
   "outputs": [],
   "source": []
  },
  {
   "cell_type": "code",
   "execution_count": null,
   "metadata": {},
   "outputs": [],
   "source": []
  },
  {
   "cell_type": "code",
   "execution_count": null,
   "metadata": {},
   "outputs": [],
   "source": []
  },
  {
   "cell_type": "code",
   "execution_count": null,
   "metadata": {},
   "outputs": [],
   "source": []
  },
  {
   "cell_type": "code",
   "execution_count": null,
   "metadata": {},
   "outputs": [],
   "source": []
  },
  {
   "cell_type": "code",
   "execution_count": null,
   "metadata": {},
   "outputs": [],
   "source": []
  },
  {
   "cell_type": "code",
   "execution_count": null,
   "metadata": {},
   "outputs": [],
   "source": []
  },
  {
   "cell_type": "code",
   "execution_count": null,
   "metadata": {},
   "outputs": [],
   "source": []
  }
 ],
 "metadata": {
  "kernelspec": {
   "display_name": "Python 3",
   "language": "python",
   "name": "python3"
  },
  "language_info": {
   "codemirror_mode": {
    "name": "ipython",
    "version": 3
   },
   "file_extension": ".py",
   "mimetype": "text/x-python",
   "name": "python",
   "nbconvert_exporter": "python",
   "pygments_lexer": "ipython3",
   "version": "3.7.6"
  }
 },
 "nbformat": 4,
 "nbformat_minor": 4
}
