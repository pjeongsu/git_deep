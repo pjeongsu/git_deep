{
 "cells": [
  {
   "cell_type": "markdown",
   "metadata": {},
   "source": [
    "- 설치 참고 : https://hello-bryan.tistory.com/29\n",
    "- 공식 사이트 : https://opencv.org/\n",
    "- 다운로드 주소 : https://sourceforge.net/projects/opencvlibrary/files/4.5.1/opencv-4.5.1-vc14_vc15.exe/download"
   ]
  },
  {
   "cell_type": "markdown",
   "metadata": {},
   "source": [
    "- 파일을 내려받아 실행하면 압축이 풀린다.\n",
    "- 압축을 해제한 opencv 폴더를 원하는 곳 아무데나 이동한다.\n",
    "- 환경변수를 설정한다.\n",
    "---\n",
    "- opencv 폴더의 위치를 설정하는 작업을 한다.\n",
    "- 환경변수에 OPENCV_BUILD를 추가하고 build 까지의 경로를 설정한다.\n",
    "- 탐색기의 내 PC에서 마우스 우클릭 > 고급탭\n",
    "- 환경변수 버튼을 누른다.\n",
    "- 새로만들기를 눌러 환경 변수를 설정한다.\n",
    "- 경로 : C:\\opencv\\build\n",
    "---\n",
    "- path 설정. opencv에서 제공하는 파일을 모든 위치에서 사용할 수 있도록\n",
    "- 환경변수에서 path를 찾아 더블클릭한다.\n",
    "- C:\\opencv\\build\\x64\\vc15\\bin\n",
    "---\n",
    "- 파이썬용 라이브러리를 설치한다\n",
    "- pip install opencv-python"
   ]
  }
 ],
 "metadata": {
  "kernelspec": {
   "display_name": "Python 3",
   "language": "python",
   "name": "python3"
  },
  "language_info": {
   "codemirror_mode": {
    "name": "ipython",
    "version": 3
   },
   "file_extension": ".py",
   "mimetype": "text/x-python",
   "name": "python",
   "nbconvert_exporter": "python",
   "pygments_lexer": "ipython3",
   "version": "3.7.6"
  }
 },
 "nbformat": 4,
 "nbformat_minor": 4
}
