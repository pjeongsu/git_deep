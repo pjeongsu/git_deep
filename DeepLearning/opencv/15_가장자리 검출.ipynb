{
 "cells": [
  {
   "cell_type": "code",
   "execution_count": 1,
   "metadata": {},
   "outputs": [],
   "source": [
    "import cv2"
   ]
  },
  {
   "cell_type": "code",
   "execution_count": 2,
   "metadata": {},
   "outputs": [],
   "source": [
    "src = cv2.imread('opencv_image/12.jpg', cv2.IMREAD_COLOR)"
   ]
  },
  {
   "cell_type": "code",
   "execution_count": 3,
   "metadata": {},
   "outputs": [],
   "source": [
    "# 그레이 스케일로 변환한다.\n",
    "gray = cv2.cvtColor(src, cv2.COLOR_BGR2GRAY)"
   ]
  },
  {
   "cell_type": "code",
   "execution_count": 4,
   "metadata": {},
   "outputs": [],
   "source": [
    "# 가장자리 부분만 가져온다.\n",
    "# 100 : 임계값1, 255 : 임계값2\n",
    "# 임계값1 이하에 해당하는 부분은 모두 제거한다.\n",
    "# 임계값2 이상에 해당하는 부분은 가장자리로 간주한다.\n",
    "\n",
    "# 원본 \n",
    "# canny -> 색상으로 구분\n",
    "canny = cv2.Canny(src, 100, 255)\n",
    "\n",
    "# Sobel은 미분을 활용한다. -> 모양을 볼 수 있도록\n",
    "# cv2.CV_8u : 정밀도, X 방향 미분, y 방향 미분, 커널크기\n",
    "sobel = cv2.Sobel(gray, cv2.CV_8U, 1, 0, 3)"
   ]
  },
  {
   "cell_type": "code",
   "execution_count": 5,
   "metadata": {},
   "outputs": [],
   "source": [
    "cv2.imshow('canny', canny)\n",
    "cv2.imshow('sobel', sobel)\n",
    "\n",
    "cv2.waitKey()\n",
    "cv2.destroyAllWindows()"
   ]
  }
 ],
 "metadata": {
  "kernelspec": {
   "display_name": "Python 3",
   "language": "python",
   "name": "python3"
  },
  "language_info": {
   "codemirror_mode": {
    "name": "ipython",
    "version": 3
   },
   "file_extension": ".py",
   "mimetype": "text/x-python",
   "name": "python",
   "nbconvert_exporter": "python",
   "pygments_lexer": "ipython3",
   "version": "3.7.6"
  }
 },
 "nbformat": 4,
 "nbformat_minor": 4
}
