{
 "cells": [
  {
   "cell_type": "markdown",
   "metadata": {},
   "source": [
    "- Haar : 좌표값이 나옴\n",
    "- DNN : 비율이 나옴 - 사진 크기가 다 다르기 때문"
   ]
  },
  {
   "cell_type": "code",
   "execution_count": 1,
   "metadata": {},
   "outputs": [],
   "source": [
    "import cv2\n",
    "import numpy as np"
   ]
  },
  {
   "cell_type": "code",
   "execution_count": 2,
   "metadata": {},
   "outputs": [],
   "source": [
    "# 사용할 모델 파일명\n",
    "model_name = 'opencv_data/res10_300x300_ssd_iter_140000.caffemodel'\n",
    "# 모델 내의 신경망 구조 정보 파일 명\n",
    "prototxt_name = 'opencv_data/deploy.prototxt.txt'\n",
    "# 얼굴이라고 인정할 최소 정확도\n",
    "min_confidence = 0.3\n",
    "# 사용할 파일 이름\n",
    "file_name = 'opencv_data/image/marathon_01.jpg'"
   ]
  },
  {
   "cell_type": "code",
   "execution_count": 3,
   "metadata": {},
   "outputs": [],
   "source": [
    "# 이미지를 불러온다\n",
    "frame = cv2.imread(file_name)"
   ]
  },
  {
   "cell_type": "code",
   "execution_count": 4,
   "metadata": {},
   "outputs": [
    {
     "name": "stdout",
     "output_type": "stream",
     "text": [
      "width : 1024\n",
      "height : 799\n",
      "channel : 3\n"
     ]
    }
   ],
   "source": [
    "# 정보를 확인한다.\n",
    "print(f'width : {frame.shape[1]}')\n",
    "print(f'height : {frame.shape[0]}')\n",
    "print(f'channel : {frame.shape[2]}')\n",
    "\n",
    "# 원본 이미지의 가로 세로 길이\n",
    "width = frame.shape[1]\n",
    "height = frame.shape[0]"
   ]
  },
  {
   "cell_type": "code",
   "execution_count": 5,
   "metadata": {},
   "outputs": [],
   "source": [
    "cv2.imshow('Original Image', frame)"
   ]
  },
  {
   "cell_type": "code",
   "execution_count": 6,
   "metadata": {},
   "outputs": [
    {
     "name": "stdout",
     "output_type": "stream",
     "text": [
      "(1, 1, 200, 7)\n",
      "[822.28503418 218.2037954  887.86462402 295.83666864]\n",
      "[ 27.54515839 230.08258221  84.29226685 300.18741694]\n",
      "[776.84698486 294.05883676 833.06207275 373.33155102]\n",
      "[691.08520508 209.68462771 742.95837402 276.6282692 ]\n",
      "[669.22998047 305.32267722 717.23803711 373.96168944]\n",
      "[412.77496338 260.0827243  462.96118164 335.13727579]\n",
      "[307.92382812 188.1953429  360.52825928 252.30825484]\n",
      "[455.58612061 213.18204719 512.41314697 281.71038097]\n"
     ]
    }
   ],
   "source": [
    "# 얼굴 인식 작업\n",
    "# 사용할 모델을 불러온다\n",
    "model = cv2.dnn.readNetFromCaffe(prototxt_name, model_name)\n",
    "# prototxt 파일에 이미지가 300x300, 3채널로 설정되어 있으므로 300x300 사이즈로 변환한다\n",
    "a1 = cv2.resize(frame, (300, 300))\n",
    "# cv2.imshow('a1', a1)\n",
    "# 이진데이터로 변환한다\n",
    "# 원본 이미지 데이터, 스케일링(크기조정), 결과데이터 행렬 사이즈, 표준화를 위해 각 색상에서 빼줄 색상값\n",
    "blob = cv2.dnn.blobFromImage(a1, 1.0, (300, 300), (104.0, 177.0, 123.0))\n",
    "# blob\n",
    "model.setInput(blob)\n",
    "# 얼굴 부분을 인식한다\n",
    "detections = model.forward()\n",
    "# 세번째 값이 얼굴이라고 인식된 부분의 개수\n",
    "print(detections.shape)\n",
    "# 얼굴이라고 인식된 부분의 개수만큼 반복한다\n",
    "for i in range(0, detections.shape[2]):\n",
    "    # 얼굴이라고 인지한 예측 정확도 추출\n",
    "    confidence = detections[0, 0, i, 2]\n",
    "    # print(confidence)\n",
    "    \n",
    "    # 정해놓은 최소 정확도 보다 높은 것만 사용한다\n",
    "    if confidence > min_confidence:\n",
    "    \n",
    "        # 얼굴이라고 인식된 영역의 데이터를 추출한다\n",
    "        box1 = detections[0, 0, i, 3:7]\n",
    "        # print(box1)\n",
    "        # 원본이미지에 맞게끔 좌표 계산을 해 준다\n",
    "        box2 = box1 * np.array([width, height, width, height])\n",
    "        print(box2)\n",
    "        # 좌표를 정수 형태로 변환한다\n",
    "        x1, y1, x2, y2 = box2.astype('int')\n",
    "        # print(x1, y1, x2, y2)\n",
    "        # 네모를 그린다\n",
    "        cv2.rectangle(frame, (x1, y1), (x2, y2), (0, 255, 0), 2)\n",
    "\n",
    "        # 예측 정확도를 표시한다\n",
    "        text = f'{int(confidence * 100)}%'\n",
    "        cv2.putText(frame, text, (x1, y1-5), cv2.FONT_HERSHEY_SIMPLEX, 0.5, (0, 255, 0), 1)\n",
    "\n",
    "cv2.imshow('detection', frame)"
   ]
  },
  {
   "cell_type": "code",
   "execution_count": 7,
   "metadata": {},
   "outputs": [],
   "source": [
    "cv2.waitKey()\n",
    "cv2.destroyAllWindows()"
   ]
  },
  {
   "cell_type": "code",
   "execution_count": null,
   "metadata": {},
   "outputs": [],
   "source": []
  }
 ],
 "metadata": {
  "kernelspec": {
   "display_name": "Python 3",
   "language": "python",
   "name": "python3"
  },
  "language_info": {
   "codemirror_mode": {
    "name": "ipython",
    "version": 3
   },
   "file_extension": ".py",
   "mimetype": "text/x-python",
   "name": "python",
   "nbconvert_exporter": "python",
   "pygments_lexer": "ipython3",
   "version": "3.7.6"
  }
 },
 "nbformat": 4,
 "nbformat_minor": 4
}
